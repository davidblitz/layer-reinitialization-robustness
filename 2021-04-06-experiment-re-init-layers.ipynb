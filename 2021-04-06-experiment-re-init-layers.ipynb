{
 "cells": [
  {
   "cell_type": "code",
   "execution_count": null,
   "id": "c8977447",
   "metadata": {},
   "outputs": [],
   "source": [
    "import pytorch_lightning as pl\n",
    "\n",
    "from model import MnistModel"
   ]
  },
  {
   "cell_type": "code",
   "execution_count": null,
   "id": "f90dcbd7",
   "metadata": {},
   "outputs": [],
   "source": [
    "mnist_model = MnistModel(freeze_last_layer=False)\n",
    "trainer = pl.Trainer(gpus=0, max_epochs=3, progress_bar_refresh_rate=20)\n",
    "trainer.fit(mnist_model)"
   ]
  },
  {
   "cell_type": "code",
   "execution_count": null,
   "id": "76426af3",
   "metadata": {},
   "outputs": [],
   "source": [
    "trainer.test(mnist_model)"
   ]
  },
  {
   "cell_type": "code",
   "execution_count": null,
   "id": "2e2b7e38",
   "metadata": {},
   "outputs": [],
   "source": [
    "i_layer = 3 #between 0 and (n_layers - 1)\n",
    "mnist_model.reinit_layer(i_layer)"
   ]
  },
  {
   "cell_type": "code",
   "execution_count": null,
   "id": "36551d81",
   "metadata": {},
   "outputs": [],
   "source": [
    "trainer.test(mnist_model)"
   ]
  },
  {
   "cell_type": "code",
   "execution_count": null,
   "id": "a9352765",
   "metadata": {},
   "outputs": [],
   "source": []
  }
 ],
 "metadata": {
  "kernelspec": {
   "display_name": "Python 3",
   "language": "python",
   "name": "python3"
  },
  "language_info": {
   "codemirror_mode": {
    "name": "ipython",
    "version": 3
   },
   "file_extension": ".py",
   "mimetype": "text/x-python",
   "name": "python",
   "nbconvert_exporter": "python",
   "pygments_lexer": "ipython3",
   "version": "3.9.2"
  }
 },
 "nbformat": 4,
 "nbformat_minor": 5
}
